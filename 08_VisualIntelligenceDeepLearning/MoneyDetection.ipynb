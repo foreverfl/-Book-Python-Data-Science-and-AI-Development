{
 "cells": [
  {
   "cell_type": "markdown",
   "metadata": {
    "id": "XT7PRhnMf-kI"
   },
   "source": [
    "# **저시력자를 위한 원화 화폐 분류**\n",
    "---\n",
    "- 본 과제는 UltraLytics YOLO v5 모델 사용을 권장합니다.\n",
    "    - 본 파일의 목차는 UltraLytics YOLO v5에 맞게 작성되어 있습니다.\n",
    "    - 다른 모델을 찾아서 사용하셔도 좋습니다.\n",
    "    - 산출물이 잘 나오면 됩니다 : )\n",
    "---"
   ]
  },
  {
   "cell_type": "markdown",
   "metadata": {
    "id": "47D2vGDYdCOz"
   },
   "source": [
    "## 0.미션\n",
    "---\n",
    "- **과제 수행 목표**\n",
    "    - 본 과제는 Object Detection 문제입니다.\n",
    "    - Object Detection 문제로 접근하기 위해 **데이터셋 전처리**를 하셔야 합니다.\n",
    "    - 데이터셋 : money_dataset.zip\n",
    "        1. 데이터셋은 압축 파일로 제공됩니다.\n",
    "        2. 압축 파일 안에는 화폐마다 폴더가 개별적으로 존재합니다.\n",
    "        3. 폴더 안에는 화폐 이미지와 화폐 정보가 담긴 json 파일이 있습니다.\n",
    "    - 여러분이 직접 촬영한 화폐 사진들을 탐지 과정에서 이용 해보세요.\n",
    "    - 이미지에 화폐 하나만 나오게 촬영하는 것은 지양해주세요.\n",
    "    - 다양한 방법으로 화폐를 촬영하고 결과를 확인해보세요.\n",
    "        - ex 1) 화폐의 모든 종류를 한 이미지에 나오게 촬영\n",
    "        - ex 2) 여러 화폐를 겹치게 하여 촬영\n",
    "---\n",
    "- **Key Point**\n",
    "    1. 모델에 맞는 폴더 구조 확인\n",
    "    2. 이미지 축소 비율에 맞춰 좌표값 변경\n",
    "        - 좌표를 이미지 리사이즈한 비율로 변경\n",
    "    3. 모델에 맞는 정보 추출/형식 변경\n",
    "        - json 파일에서 정보 추출 및 모델 형식에 맞게 변경\n",
    "    4. 화폐당 하나의 클래스로 변경\n",
    "        - 총 8개 클래스\n",
    "    5. 모델 선택 필요\n",
    "---"
   ]
  },
  {
   "cell_type": "markdown",
   "metadata": {
    "id": "aZon1K-Ag9be"
   },
   "source": [
    "## 1.환경설정"
   ]
  },
  {
   "cell_type": "markdown",
   "metadata": {
    "id": "CMgnHN9ZBF05"
   },
   "source": [
    "### (1) 구글 드라이브 연동, 데이터 다운로드\n",
    "---\n",
    "- 아래의 코드 셀을 반드시 실행시켜야 합니다.\n",
    "---"
   ]
  },
  {
   "cell_type": "code",
   "execution_count": 1,
   "metadata": {
    "colab": {
     "base_uri": "https://localhost:8080/"
    },
    "executionInfo": {
     "elapsed": 264163,
     "status": "ok",
     "timestamp": 1694486184411,
     "user": {
      "displayName": "Byungkyu Ji",
      "userId": "07239397859272093769"
     },
     "user_tz": -540
    },
    "id": "xCplyiojBFwh",
    "outputId": "a6a5f679-0bba-4776-ad03-13b6ebc78161",
    "tags": []
   },
   "outputs": [],
   "source": [
    "# from google.colab import drive\n",
    "# drive.mount('/content/drive/')"
   ]
  },
  {
   "cell_type": "code",
   "execution_count": 2,
   "metadata": {
    "colab": {
     "base_uri": "https://localhost:8080/"
    },
    "executionInfo": {
     "elapsed": 4216,
     "status": "ok",
     "timestamp": 1694486188623,
     "user": {
      "displayName": "Byungkyu Ji",
      "userId": "07239397859272093769"
     },
     "user_tz": -540
    },
    "id": "5sUNGwmDxAda",
    "outputId": "2c475ba9-a760-4901-d5bd-f0cb37b72e4a",
    "tags": []
   },
   "outputs": [],
   "source": [
    "# !pip install gdown"
   ]
  },
  {
   "cell_type": "markdown",
   "metadata": {
    "id": "J8vjv0acBAV4"
   },
   "source": [
    "### (2) 데이터셋 불러오기\n",
    "---\n",
    "- **세부요구사항**\n",
    "    - 데이터셋 파일의 압축을 해제하세요.\n",
    "---\n",
    "- 예제 코드에서는 zipfile 모듈을 이용하였습니다.\n",
    "    - [zipfile document](https://docs.python.org/3/library/zipfile.html#zipfile-objects)\n",
    "    - 해당 모듈 이외에 자신이 잘 알고 있는 방법을 사용해도 됩니다.\n",
    "---"
   ]
  },
  {
   "cell_type": "code",
   "execution_count": 3,
   "metadata": {
    "executionInfo": {
     "elapsed": 3,
     "status": "ok",
     "timestamp": 1694488107208,
     "user": {
      "displayName": "Byungkyu Ji",
      "userId": "07239397859272093769"
     },
     "user_tz": -540
    },
    "id": "bkSa5ejf8LMe",
    "tags": []
   },
   "outputs": [],
   "source": [
    "# import zipfile, gdown,os\n",
    "# url =\"https://drive.google.com/file/d/1k1tXDK35s6BsMTPGWSl5GVGNoPfC898X/view?usp=drive_link\"\n",
    "# file_name = \"money_dataset.zip\"\n",
    "# output = \"/content/drive/MyDrive/\" + file_name # 변경 가능\n",
    "# if not os.path.exists(output):\n",
    "#     gdown.download(url=url, output=output, quiet=False, fuzzy=True)"
   ]
  },
  {
   "cell_type": "code",
   "execution_count": 4,
   "metadata": {
    "executionInfo": {
     "elapsed": 271,
     "status": "ok",
     "timestamp": 1694488045659,
     "user": {
      "displayName": "Byungkyu Ji",
      "userId": "07239397859272093769"
     },
     "user_tz": -540
    },
    "id": "N4cdpkRv86QQ",
    "tags": []
   },
   "outputs": [],
   "source": [
    "# # 데이터셋 압축 파일 경로 : 유저별로 상이할 수 있음\n",
    "# money_data = zipfile.ZipFile(output)"
   ]
  },
  {
   "cell_type": "code",
   "execution_count": 5,
   "metadata": {
    "executionInfo": {
     "elapsed": 10828,
     "status": "ok",
     "timestamp": 1694488059653,
     "user": {
      "displayName": "Byungkyu Ji",
      "userId": "07239397859272093769"
     },
     "user_tz": -540
    },
    "id": "TDAyDRLT9hZS",
    "tags": []
   },
   "outputs": [],
   "source": [
    "# # 데이터셋 압축 해제\n",
    "# money_data.extractall('/content/Dataset/')"
   ]
  },
  {
   "cell_type": "markdown",
   "metadata": {
    "id": "QyEd-WNIhoSc"
   },
   "source": [
    "## 2.데이터 전처리"
   ]
  },
  {
   "cell_type": "markdown",
   "metadata": {
    "id": "P81d6utx-3LY"
   },
   "source": [
    "### (1) 폴더 구조 생성 및 파일 이동\n",
    "---\n",
    "- **세부요구사항**\n",
    "    -  모델에서 요구하는 폴더 구조를 만들어야 합니다.\n",
    "        - Hint : Image와 Label을 구분하는 폴더를 만들어 주세요\n",
    "---\n",
    "- 예제 코드에서는 glob, shutil 모듈을 이용하였습니다.\n",
    "    - [glob document](https://docs.python.org/3/library/glob.html) | [shutil document](https://docs.python.org/3/library/shutil.html)\n",
    "    - 해당 모듈 이외에 자신이 잘 알고 있는 방법을 사용해도 됩니다.\n",
    "---"
   ]
  },
  {
   "cell_type": "code",
   "execution_count": 6,
   "metadata": {
    "id": "YBqCJU5z_UI8"
   },
   "outputs": [],
   "source": [
    "# # 1.폴더 구조 만들기\n",
    "# !mkdir ./content/Dataset/images;\n",
    "# !mkdir ./content/Dataset/images/train; mkdir /content/Dataset/images/val\n",
    "\n",
    "# !mkdir ./content/Dataset/labels;\n",
    "# !mkdir ./content/Dataset/labels/train; mkdir /content/Dataset/labels/val"
   ]
  },
  {
   "cell_type": "code",
   "execution_count": 3,
   "metadata": {
    "tags": []
   },
   "outputs": [],
   "source": [
    "import os\n",
    "import shutil\n",
    "\n",
    "def clear_folder(folder_path):\n",
    "    if os.path.exists(folder_path):\n",
    "        for filename in os.listdir(folder_path):\n",
    "            file_path = os.path.join(folder_path, filename)\n",
    "            try:\n",
    "                if os.path.isfile(file_path) or os.path.islink(file_path):\n",
    "                    os.unlink(file_path)\n",
    "                elif os.path.isdir(file_path):\n",
    "                    shutil.rmtree(file_path)\n",
    "            except Exception as e:\n",
    "                print(f'Failed to delete {file_path}. Reason: {e}')\n",
    "\n",
    "    # 폴더를 다시 생성\n",
    "    os.makedirs(folder_path, exist_ok=True)\n",
    "\n",
    "# 사용 예시\n",
    "clear_folder(\"./content/Dataset/images/train\")\n",
    "clear_folder(\"./content/Dataset/images/val\")\n",
    "clear_folder(\"./content/Dataset/labels/train\")\n",
    "clear_folder(\"./content/Dataset/labels/val\")"
   ]
  },
  {
   "cell_type": "code",
   "execution_count": 4,
   "metadata": {
    "id": "Q3lnYcLS_UOy",
    "tags": []
   },
   "outputs": [],
   "source": [
    "# 2. Dataset metadata 입력\n",
    "won_list = ['10', '50', '100', '500', '1000', '5000', '10000', '50000']\n",
    "data_path = './content/Dataset/'"
   ]
  },
  {
   "cell_type": "code",
   "execution_count": 5,
   "metadata": {
    "tags": []
   },
   "outputs": [
    {
     "name": "stdout",
     "output_type": "stream",
     "text": [
      "True\n"
     ]
    }
   ],
   "source": [
    "print(os.path.exists(data_path))"
   ]
  },
  {
   "cell_type": "markdown",
   "metadata": {
    "id": "ihJgeqXJG1Ml"
   },
   "source": [
    "---\n",
    "- 데이터를 Training set | Validation set으로 분할하세요.\n",
    "    - 예시 : Training과 Validation은 8:2로 분리\n",
    "- Hint : 이미지 데이터는 /images에, JSON 데이터는 /labels에 넣어주세요\n",
    "    - 예시 : /dataset/images/train, /dataset/labels/train\n",
    "    - 예제 코드에서는 glob, shutil 모듈을 이용하였습니다.\n",
    "    - [glob document](https://docs.python.org/3/library/glob.html) | [shutil document](https://docs.python.org/3/library/shutil.html)\n",
    "\n",
    "    ※ 해당 모듈 이외에 자신이 잘 알고 있는 방법을 사용해도 됩니다.\n",
    "    \n",
    "---"
   ]
  },
  {
   "cell_type": "code",
   "execution_count": 6,
   "metadata": {
    "tags": []
   },
   "outputs": [],
   "source": [
    "# 3. 데이터를 Training set | Validation set으로 분할"
   ]
  },
  {
   "cell_type": "code",
   "execution_count": 7,
   "metadata": {
    "id": "1qfGCSqy_kL0",
    "tags": []
   },
   "outputs": [],
   "source": [
    "# 모듈 불러오기\n",
    "import glob\n",
    "import shutil\n",
    "import os\n",
    "\n",
    "# 이미지와 JSON 파일이 저장되어 있는 디렉터리 목록\n",
    "won_list = ['10', '50', '100', '500', '1000', '5000', '10000', '50000']\n",
    "data_path = './content/Dataset/money_dataset/'\n",
    "\n",
    "# 8:2 비율로 Training과 Validation을 분리합니다.\n",
    "train_ratio = 0.8\n",
    "\n",
    "# 각 폴더 내의 파일을 읽어와서 분류합니다.\n",
    "for won_value in won_list:\n",
    "    image_files = glob.glob(f'{data_path}{won_value}/*.jpg')\n",
    "    json_files = glob.glob(f'{data_path}{won_value}/*.json')\n",
    "    \n",
    "    # 분할 지점 계산\n",
    "    train_image_count = int(len(image_files) * train_ratio)\n",
    "    train_json_count = int(len(json_files) * train_ratio)\n",
    "    \n",
    "    # 이미지 파일 분류\n",
    "    for i, file_path in enumerate(image_files):\n",
    "        if i < train_image_count:\n",
    "            # Training 세트\n",
    "            shutil.copy(file_path, f'./content/Dataset/images/train/{os.path.basename(file_path)}')\n",
    "        else:\n",
    "            # Validation 세트\n",
    "            shutil.copy(file_path, f'./content/Dataset/images/val/{os.path.basename(file_path)}')\n",
    "\n",
    "    # JSON 파일 분류\n",
    "    for i, file_path in enumerate(json_files):\n",
    "        if i < train_json_count:\n",
    "            # Training 세트\n",
    "            shutil.copy(file_path, f'./content/Dataset/labels/train/{os.path.basename(file_path)}')\n",
    "        else:\n",
    "            # Validation 세트\n",
    "            shutil.copy(file_path, f'./content/Dataset/labels/val/{os.path.basename(file_path)}')"
   ]
  },
  {
   "cell_type": "markdown",
   "metadata": {
    "id": "II_hsJ6bKYGn"
   },
   "source": [
    "### (2) json에서 정보 추출\n",
    "---\n",
    "- **세부요구사항**\n",
    "    - json 파일에서 필요한 정보를 추출하세요:\n",
    "        - 위치 정보 : x1, x2, y1, y2\n",
    "        - 박스 정보 : shape_type\n",
    "        - 클래스 정보 : labels\n",
    "    - 화폐당 하나의 클래스로 변경하세요.\n",
    "        - json 파일에는 화폐 클래스가 앞뒷면으로 구분되어 있습니다.\n",
    "        - 화폐의 앞뒷면 구분을 없애주세요.\n",
    "            - 예시 : 'ten_front', 'ten_back' -> 'ten'\n",
    "    - 화폐의 위치 정보를 YOLO 모델 형식에 맞게 변경 해주세요.\n",
    "        - 사용되는 이미지는 원본에서 1/5로 축소되어 있습니다.\n",
    "        - json 파일의 정보는 원본 기준 데이터이므로 위치 정보 추출을 할 때 x값과 y값을 1/5로 줄여주세요.\n",
    "    - 이렇게 변경된 정보를 YOLO label 형식에 맞게 txt파일로 저장 해 주세요.\n",
    "        - Hint : YOLO Labeling Format [label, x-center, y-center, width-norm, height-norm]\n",
    "---"
   ]
  },
  {
   "cell_type": "code",
   "execution_count": 8,
   "metadata": {
    "id": "Mzh2Y8doMEK1",
    "tags": []
   },
   "outputs": [],
   "source": [
    "import json\n",
    "import os\n",
    "\n",
    "# 초기 경로 설정\n",
    "json_path = './content/Dataset/labels/'\n",
    "temp_list = ['train', 'val']\n",
    "\n",
    "# 라벨을 숫자로 매핑하는 딕셔너리\n",
    "label_dict = {\n",
    "    'Ten': 0,\n",
    "    'Fifty': 1,\n",
    "    'Hundred': 2,\n",
    "    'Five_Hundred': 3,\n",
    "    'Thousand': 4,\n",
    "    'Five_Thousand': 5,\n",
    "    'Ten_Thousand': 6,\n",
    "    'Fifty_Thousand': 7\n",
    "}\n",
    "\n",
    "# train과 val 폴더에 대해 반복\n",
    "for folder in temp_list:\n",
    "    folder_path = os.path.join(json_path, folder)\n",
    "    json_files = [f for f in os.listdir(folder_path) if f.endswith('.json')]\n",
    "\n",
    "    for json_file in json_files:\n",
    "        with open(os.path.join(folder_path, json_file), 'r') as f:\n",
    "            data = json.load(f)      \n",
    "            \n",
    "        # YOLO 포맷으로 정보 변환\n",
    "        # x, y 값을 1/5로 줄임\n",
    "        points = data['shapes'][0]['points']\n",
    "        x1, y1 = points[0]\n",
    "        x2, y2 = points[1]\n",
    "        x1, y1, x2, y2 = x1 / 5, y1 / 5, x2 / 5, y2 / 5\n",
    "\n",
    "        # 중심 좌표, 너비, 높이 계산\n",
    "        x_center = (x1 + x2) / 2\n",
    "        y_center = (y1 + y2) / 2\n",
    "        width = x2 - x1\n",
    "        height = y2 - y1\n",
    "\n",
    "        # 이미지 너비와 높이\n",
    "        img_width = data['imageWidth'] / 5\n",
    "        img_height = data['imageHeight'] / 5\n",
    "\n",
    "        # YOLO 포맷으로 normalize\n",
    "        x_center /= img_width\n",
    "        y_center /= img_height\n",
    "        width /= img_width\n",
    "        height /= img_height\n",
    "\n",
    "        # 라벨 정보. 앞뒷면 구분을 없앰\n",
    "        label_str = '_'.join(data['shapes'][0]['label'].rsplit('_', 1)[:-1])\n",
    "        \n",
    "        # 라벨을 숫자로 변환\n",
    "        label_num = label_dict.get(label_str, -1)\n",
    "        if label_num == -1:\n",
    "            print(f\"Unknown label: {label_str}\")\n",
    "            continue\n",
    "\n",
    "        # YOLO 포맷으로 저장\n",
    "        with open(os.path.join(folder_path, json_file.replace('.json', '.txt')), 'w') as f:\n",
    "            f.write(f\"{label_num} {x_center} {y_center} {width} {height}\")\n"
   ]
  },
  {
   "cell_type": "markdown",
   "metadata": {
    "id": "tOQeEhApesWR"
   },
   "source": [
    "### (3) 데이터셋 정보가 담긴 파일 생성\n",
    "---\n",
    "- **세부요구사항**\n",
    "    - 파일 안에 있어야 할 정보는 아래와 같습니다.\n",
    "        - 학습할 클래스 이름 정보\n",
    "        - 학습할 클래스 수 정보\n",
    "        - Training, Validation 데이터셋 위치 정보\n",
    "---\n",
    "- 가장 대중적으로 이용하는 라이브러리는 yaml 입니다.\n",
    "    - [yaml document](https://pyyaml.org/wiki/PyYAMLDocumentation)\n",
    "    - 해당 모듈 이외에 자신이 잘 알고 있는 방법을 사용해도 됩니다.\n",
    "---"
   ]
  },
  {
   "cell_type": "code",
   "execution_count": 9,
   "metadata": {
    "tags": []
   },
   "outputs": [],
   "source": [
    "import yaml\n",
    "\n",
    "# 데이터셋 정보를 담은 딕셔너리\n",
    "dataset_info = {\n",
    "    'names': ['10', '50', '100', '500', '1000', '5000', '10000', '50000'], # 학습할 클래스 이름 정보\n",
    "    'nc': 8,  # 학습할 클래스 수 정보\n",
    "    'train': '../content/Dataset/images/train',  # Training 데이터셋 위치 정보\n",
    "    'val': '../content/Dataset/images/val'  # Validation 데이터셋 위치 정보\n",
    "}\n",
    "\n",
    "# yaml 파일로 저장\n",
    "with open('./content/Dataset/money.yaml', 'w') as f:\n",
    "    yaml.dump(dataset_info, f)"
   ]
  },
  {
   "cell_type": "code",
   "execution_count": 10,
   "metadata": {
    "tags": []
   },
   "outputs": [
    {
     "name": "stdout",
     "output_type": "stream",
     "text": [
      "True\n"
     ]
    }
   ],
   "source": [
    "print(os.path.exists('./content/Dataset/money.yaml'))"
   ]
  },
  {
   "cell_type": "markdown",
   "metadata": {
    "id": "3btFvySXi2dt"
   },
   "source": [
    "## 3.모델링"
   ]
  },
  {
   "cell_type": "markdown",
   "metadata": {
    "id": "0pQ2gRbTYgLL"
   },
   "source": [
    "### (1) 모델 라이브러리 설치\n",
    "---"
   ]
  },
  {
   "cell_type": "code",
   "execution_count": 11,
   "metadata": {
    "id": "Biyr9AHkMyNf",
    "tags": []
   },
   "outputs": [
    {
     "name": "stderr",
     "output_type": "stream",
     "text": [
      "Cloning into 'yolov5'...\n"
     ]
    },
    {
     "name": "stdout",
     "output_type": "stream",
     "text": [
      "Requirement already satisfied: gitpython>=3.1.30 in c:\\users\\forev\\anaconda3\\lib\\site-packages (from -r yolov5/requirements.txt (line 5)) (3.1.36)\n",
      "Requirement already satisfied: matplotlib>=3.3 in c:\\users\\forev\\anaconda3\\lib\\site-packages (from -r yolov5/requirements.txt (line 6)) (3.7.0)\n",
      "Requirement already satisfied: numpy>=1.22.2 in c:\\users\\forev\\anaconda3\\lib\\site-packages (from -r yolov5/requirements.txt (line 7)) (1.23.5)\n",
      "Requirement already satisfied: opencv-python>=4.1.1 in c:\\users\\forev\\anaconda3\\lib\\site-packages (from -r yolov5/requirements.txt (line 8)) (4.8.0.76)\n",
      "Requirement already satisfied: Pillow>=7.1.2 in c:\\users\\forev\\anaconda3\\lib\\site-packages (from -r yolov5/requirements.txt (line 9)) (9.4.0)\n",
      "Requirement already satisfied: psutil in c:\\users\\forev\\anaconda3\\lib\\site-packages (from -r yolov5/requirements.txt (line 10)) (5.9.0)\n",
      "Requirement already satisfied: PyYAML>=5.3.1 in c:\\users\\forev\\anaconda3\\lib\\site-packages (from -r yolov5/requirements.txt (line 11)) (6.0)\n",
      "Requirement already satisfied: requests>=2.23.0 in c:\\users\\forev\\anaconda3\\lib\\site-packages (from -r yolov5/requirements.txt (line 12)) (2.28.1)\n",
      "Requirement already satisfied: scipy>=1.4.1 in c:\\users\\forev\\anaconda3\\lib\\site-packages (from -r yolov5/requirements.txt (line 13)) (1.10.0)\n",
      "Requirement already satisfied: thop>=0.1.1 in c:\\users\\forev\\anaconda3\\lib\\site-packages (from -r yolov5/requirements.txt (line 14)) (0.1.1.post2209072238)\n",
      "Requirement already satisfied: torch>=1.8.0 in c:\\users\\forev\\anaconda3\\lib\\site-packages (from -r yolov5/requirements.txt (line 15)) (2.0.1)\n",
      "Requirement already satisfied: torchvision>=0.9.0 in c:\\users\\forev\\anaconda3\\lib\\site-packages (from -r yolov5/requirements.txt (line 16)) (0.15.2)\n",
      "Requirement already satisfied: tqdm>=4.64.0 in c:\\users\\forev\\anaconda3\\lib\\site-packages (from -r yolov5/requirements.txt (line 17)) (4.64.1)\n",
      "Requirement already satisfied: ultralytics>=8.0.147 in c:\\users\\forev\\anaconda3\\lib\\site-packages (from -r yolov5/requirements.txt (line 18)) (8.0.183)\n",
      "Requirement already satisfied: pandas>=1.1.4 in c:\\users\\forev\\anaconda3\\lib\\site-packages (from -r yolov5/requirements.txt (line 27)) (1.5.3)\n",
      "Requirement already satisfied: seaborn>=0.11.0 in c:\\users\\forev\\anaconda3\\lib\\site-packages (from -r yolov5/requirements.txt (line 28)) (0.12.2)\n",
      "Requirement already satisfied: setuptools>=65.5.1 in c:\\users\\forev\\anaconda3\\lib\\site-packages (from -r yolov5/requirements.txt (line 42)) (65.6.3)\n",
      "Requirement already satisfied: gitdb<5,>=4.0.1 in c:\\users\\forev\\anaconda3\\lib\\site-packages (from gitpython>=3.1.30->-r yolov5/requirements.txt (line 5)) (4.0.10)\n",
      "Requirement already satisfied: cycler>=0.10 in c:\\users\\forev\\anaconda3\\lib\\site-packages (from matplotlib>=3.3->-r yolov5/requirements.txt (line 6)) (0.11.0)\n",
      "Requirement already satisfied: python-dateutil>=2.7 in c:\\users\\forev\\anaconda3\\lib\\site-packages (from matplotlib>=3.3->-r yolov5/requirements.txt (line 6)) (2.8.2)\n",
      "Requirement already satisfied: packaging>=20.0 in c:\\users\\forev\\anaconda3\\lib\\site-packages (from matplotlib>=3.3->-r yolov5/requirements.txt (line 6)) (22.0)\n",
      "Requirement already satisfied: pyparsing>=2.3.1 in c:\\users\\forev\\anaconda3\\lib\\site-packages (from matplotlib>=3.3->-r yolov5/requirements.txt (line 6)) (3.0.9)\n",
      "Requirement already satisfied: kiwisolver>=1.0.1 in c:\\users\\forev\\anaconda3\\lib\\site-packages (from matplotlib>=3.3->-r yolov5/requirements.txt (line 6)) (1.4.4)\n",
      "Requirement already satisfied: fonttools>=4.22.0 in c:\\users\\forev\\anaconda3\\lib\\site-packages (from matplotlib>=3.3->-r yolov5/requirements.txt (line 6)) (4.25.0)\n",
      "Requirement already satisfied: contourpy>=1.0.1 in c:\\users\\forev\\anaconda3\\lib\\site-packages (from matplotlib>=3.3->-r yolov5/requirements.txt (line 6)) (1.0.5)\n",
      "Requirement already satisfied: idna<4,>=2.5 in c:\\users\\forev\\anaconda3\\lib\\site-packages (from requests>=2.23.0->-r yolov5/requirements.txt (line 12)) (3.4)\n",
      "Requirement already satisfied: certifi>=2017.4.17 in c:\\users\\forev\\anaconda3\\lib\\site-packages (from requests>=2.23.0->-r yolov5/requirements.txt (line 12)) (2022.12.7)\n",
      "Requirement already satisfied: urllib3<1.27,>=1.21.1 in c:\\users\\forev\\anaconda3\\lib\\site-packages (from requests>=2.23.0->-r yolov5/requirements.txt (line 12)) (1.26.14)\n",
      "Requirement already satisfied: charset-normalizer<3,>=2 in c:\\users\\forev\\anaconda3\\lib\\site-packages (from requests>=2.23.0->-r yolov5/requirements.txt (line 12)) (2.0.4)\n",
      "Requirement already satisfied: typing-extensions in c:\\users\\forev\\anaconda3\\lib\\site-packages (from torch>=1.8.0->-r yolov5/requirements.txt (line 15)) (4.4.0)\n",
      "Requirement already satisfied: sympy in c:\\users\\forev\\anaconda3\\lib\\site-packages (from torch>=1.8.0->-r yolov5/requirements.txt (line 15)) (1.11.1)\n",
      "Requirement already satisfied: filelock in c:\\users\\forev\\anaconda3\\lib\\site-packages (from torch>=1.8.0->-r yolov5/requirements.txt (line 15)) (3.9.0)\n",
      "Requirement already satisfied: jinja2 in c:\\users\\forev\\anaconda3\\lib\\site-packages (from torch>=1.8.0->-r yolov5/requirements.txt (line 15)) (3.1.2)\n",
      "Requirement already satisfied: networkx in c:\\users\\forev\\anaconda3\\lib\\site-packages (from torch>=1.8.0->-r yolov5/requirements.txt (line 15)) (2.8.4)\n",
      "Requirement already satisfied: colorama in c:\\users\\forev\\anaconda3\\lib\\site-packages (from tqdm>=4.64.0->-r yolov5/requirements.txt (line 17)) (0.4.6)\n",
      "Requirement already satisfied: py-cpuinfo in c:\\users\\forev\\anaconda3\\lib\\site-packages (from ultralytics>=8.0.147->-r yolov5/requirements.txt (line 18)) (9.0.0)\n",
      "Requirement already satisfied: pytz>=2020.1 in c:\\users\\forev\\anaconda3\\lib\\site-packages (from pandas>=1.1.4->-r yolov5/requirements.txt (line 27)) (2022.7)\n",
      "Requirement already satisfied: smmap<6,>=3.0.1 in c:\\users\\forev\\anaconda3\\lib\\site-packages (from gitdb<5,>=4.0.1->gitpython>=3.1.30->-r yolov5/requirements.txt (line 5)) (5.0.1)\n",
      "Requirement already satisfied: six>=1.5 in c:\\users\\forev\\anaconda3\\lib\\site-packages (from python-dateutil>=2.7->matplotlib>=3.3->-r yolov5/requirements.txt (line 6)) (1.16.0)\n",
      "Requirement already satisfied: MarkupSafe>=2.0 in c:\\users\\forev\\anaconda3\\lib\\site-packages (from jinja2->torch>=1.8.0->-r yolov5/requirements.txt (line 15)) (2.1.1)\n",
      "Requirement already satisfied: mpmath>=0.19 in c:\\users\\forev\\anaconda3\\lib\\site-packages (from sympy->torch>=1.8.0->-r yolov5/requirements.txt (line 15)) (1.2.1)\n"
     ]
    }
   ],
   "source": [
    "!git clone https://github.com/ultralytics/yolov5 \n",
    "!pip install -r yolov5/requirements.txt"
   ]
  },
  {
   "cell_type": "markdown",
   "metadata": {
    "id": "_mHMAspjR6Xp"
   },
   "source": [
    "### (2) 가중치 파일 다운로드\n",
    "---\n",
    "- **세부요구사항**\n",
    "    - 모델 개발자가 제공하는 사전 학습 가중치 파일을 다운로드 하세요.\n",
    "        - 해당 과정이 불필요하다면 넘어가셔도 됩니다!\n",
    "---"
   ]
  },
  {
   "cell_type": "markdown",
   "metadata": {
    "id": "W8-5lC4mfbwT"
   },
   "source": [
    "### (3) 학습 : train.py\n",
    "---\n",
    "- **세부요구사항**\n",
    "    - UltraLytics YOLO v5에는 아래의 데이터가 필요합니다.\n",
    "        - 데이터셋 정보가 담긴 yaml 파일\n",
    "        - 사용하려는 모델 구조에 대한 yaml 파일\n",
    "        - 사용하려는 모델의 가중치 파일\n",
    "---"
   ]
  },
  {
   "cell_type": "code",
   "execution_count": 1,
   "metadata": {
    "tags": []
   },
   "outputs": [],
   "source": [
    "# %cd C:\\Users\\user\\aivle\\230921_MiniProject3\n",
    "# !tensorboard --logdir runs/train"
   ]
  },
  {
   "cell_type": "code",
   "execution_count": null,
   "metadata": {},
   "outputs": [],
   "source": [
    "%cd yolov5\n",
    "!python train.py --img 640 --batch-size 16 --epochs 10 --data ../content/Dataset/money.yaml --cfg ./models/yolov5s.yaml --device 0"
   ]
  },
  {
   "cell_type": "code",
   "execution_count": null,
   "metadata": {},
   "outputs": [],
   "source": [
    "%cd yolov5\n",
    "!python train.py --img 640 --batch-size 16 --epochs 1000 --data ../content/Dataset/money.yaml --cfg ./models/yolov5s.yaml --device 0 --patience 3"
   ]
  },
  {
   "cell_type": "markdown",
   "metadata": {
    "id": "u2YESAa5fc4M"
   },
   "source": [
    "## 4.탐지 : detect.py\n",
    "---\n",
    "- **세부요구사항**\n",
    "    - 학습 과정에서 생성된 가중치 파일을 이용하세요.\n",
    "    - IoU threshold를 0.25 이하로 설정하세요.\n",
    "    - confidence threshold를 0.75 이상으로 설정하세요.\n",
    "---\n",
    "- 여러분이 **직접 촬영한 화폐 사진과 동영상**을 탐지 과정에 이용하여 결과를 확인하세요.\n",
    "    - 조건\n",
    "        1. 화폐의 수를 늘려가며 촬영 해보세요.\n",
    "            - ex) 50원 하나, 50원 둘, 50원 셋, ...\n",
    "        2. 화폐의 종류를 늘려가며 촬영 해보세요.\n",
    "            - ex) 50원 하나와 100원 하나, 50원 하나와 100원 하나와 1000원 하나, ...\n",
    "        3. 사진은 최소 30장 이상, 동영상은 최소 하나 이상 촬영하여 사용 해보세요.\n",
    "---"
   ]
  },
  {
   "cell_type": "code",
   "execution_count": null,
   "metadata": {},
   "outputs": [],
   "source": [
    "# 프로젝트 요구사항"
   ]
  },
  {
   "cell_type": "code",
   "execution_count": null,
   "metadata": {
    "id": "9rK0ClfTcjEZ"
   },
   "outputs": [],
   "source": [
    "!python detect.py --weights runs/train/exp3/weights/best.pt --img 640 --conf 0.75 --iou 0.25 --source ./input_images/ --device 0 --save-txt --save-csv"
   ]
  },
  {
   "cell_type": "code",
   "execution_count": null,
   "metadata": {},
   "outputs": [],
   "source": [
    "# GPT4 추천"
   ]
  },
  {
   "cell_type": "code",
   "execution_count": null,
   "metadata": {},
   "outputs": [],
   "source": [
    "!python detect.py --weights runs/train/exp3/weights/best.pt --img 640 --conf 0.40 --iou 0.10 --source ./input_images/ --device 0 --save-txt --save-csv"
   ]
  }
 ],
 "metadata": {
  "colab": {
   "provenance": []
  },
  "gpuClass": "standard",
  "kernelspec": {
   "display_name": "Python 3 (ipykernel)",
   "language": "python",
   "name": "python3"
  },
  "language_info": {
   "codemirror_mode": {
    "name": "ipython",
    "version": 3
   },
   "file_extension": ".py",
   "mimetype": "text/x-python",
   "name": "python",
   "nbconvert_exporter": "python",
   "pygments_lexer": "ipython3",
   "version": "3.10.9"
  }
 },
 "nbformat": 4,
 "nbformat_minor": 4
}
